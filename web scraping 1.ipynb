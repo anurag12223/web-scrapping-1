{
 "cells": [
  {
   "cell_type": "code",
   "execution_count": 7,
   "metadata": {},
   "outputs": [
    {
     "name": "stdout",
     "output_type": "stream",
     "text": [
      "Requirement already satisfied: requests in c:\\programdata\\anaconda3\\lib\\site-packages (2.22.0)\n",
      "Requirement already satisfied: chardet<3.1.0,>=3.0.2 in c:\\programdata\\anaconda3\\lib\\site-packages (from requests) (3.0.4)\n",
      "Requirement already satisfied: urllib3!=1.25.0,!=1.25.1,<1.26,>=1.21.1 in c:\\programdata\\anaconda3\\lib\\site-packages (from requests) (1.24.2)\n",
      "Requirement already satisfied: idna<2.9,>=2.5 in c:\\programdata\\anaconda3\\lib\\site-packages (from requests) (2.8)\n",
      "Requirement already satisfied: certifi>=2017.4.17 in c:\\programdata\\anaconda3\\lib\\site-packages (from requests) (2019.9.11)\n"
     ]
    }
   ],
   "source": [
    "!pip install requests"
   ]
  },
  {
   "cell_type": "code",
   "execution_count": 8,
   "metadata": {},
   "outputs": [
    {
     "name": "stdout",
     "output_type": "stream",
     "text": [
      "Collecting BeautifulSoup\n",
      "  Using cached https://files.pythonhosted.org/packages/40/f2/6c9f2f3e696ee6a1fb0e4d7850617e224ed2b0b1e872110abffeca2a09d4/BeautifulSoup-3.2.2.tar.gz\n"
     ]
    },
    {
     "name": "stderr",
     "output_type": "stream",
     "text": [
      "    ERROR: Command errored out with exit status 1:\n",
      "     command: 'C:\\ProgramData\\Anaconda3\\python.exe' -c 'import sys, setuptools, tokenize; sys.argv[0] = '\"'\"'C:\\\\Users\\\\Admin\\\\AppData\\\\Local\\\\Temp\\\\pip-install-57ijnebn\\\\BeautifulSoup\\\\setup.py'\"'\"'; __file__='\"'\"'C:\\\\Users\\\\Admin\\\\AppData\\\\Local\\\\Temp\\\\pip-install-57ijnebn\\\\BeautifulSoup\\\\setup.py'\"'\"';f=getattr(tokenize, '\"'\"'open'\"'\"', open)(__file__);code=f.read().replace('\"'\"'\\r\\n'\"'\"', '\"'\"'\\n'\"'\"');f.close();exec(compile(code, __file__, '\"'\"'exec'\"'\"'))' egg_info --egg-base pip-egg-info\n",
      "         cwd: C:\\Users\\Admin\\AppData\\Local\\Temp\\pip-install-57ijnebn\\BeautifulSoup\\\n",
      "    Complete output (6 lines):\n",
      "    Traceback (most recent call last):\n",
      "      File \"<string>\", line 1, in <module>\n",
      "      File \"C:\\Users\\Admin\\AppData\\Local\\Temp\\pip-install-57ijnebn\\BeautifulSoup\\setup.py\", line 3\n",
      "        \"You're trying to run a very old release of Beautiful Soup under Python 3. This will not work.\"<>\"Please use Beautiful Soup 4, available through the pip package 'beautifulsoup4'.\"\n",
      "                                                                                                        ^\n",
      "    SyntaxError: invalid syntax\n",
      "    ----------------------------------------\n",
      "ERROR: Command errored out with exit status 1: python setup.py egg_info Check the logs for full command output.\n"
     ]
    }
   ],
   "source": [
    "!pip install BeautifulSoup"
   ]
  },
  {
   "cell_type": "code",
   "execution_count": 18,
   "metadata": {},
   "outputs": [],
   "source": [
    "# step 0 , Import the libraries\n",
    "from bs4 import BeautifulSoup\n",
    "import requests\n",
    "import pandas as pd"
   ]
  },
  {
   "cell_type": "code",
   "execution_count": 19,
   "metadata": {},
   "outputs": [],
   "source": [
    "url = \"http://cbseaff.nic.in/cbse_aff/schdir_Report/userview.aspx\""
   ]
  },
  {
   "cell_type": "code",
   "execution_count": 20,
   "metadata": {},
   "outputs": [],
   "source": [
    "# step1 , Get the html\n",
    "r = requests.get(url)\n",
    "htmlcontent = r.content"
   ]
  },
  {
   "cell_type": "code",
   "execution_count": 21,
   "metadata": {},
   "outputs": [
    {
     "name": "stdout",
     "output_type": "stream",
     "text": [
      "b'\\r\\n<!DOCTYPE html PUBLIC \"-//W3C//DTD XHTML 1.0 Transitional//EN\" \"http://www.w3.org/TR/xhtml1/DTD/xhtml1-transitional.dtd\">\\r\\n<html xmlns=\"http://www.w3.org/1999/xhtml\">\\r\\n<head><title>\\r\\n\\r\\n</title>\\r\\n<script src=\"../js/jquery-3.3.1.min.js\" type=\"text/javascript\"></script>\\r\\n    <script src=\"../js/superfish.js\" type=\"text/javascript\"></script>\\r\\n    <script src=\"../js/hoverIntent.js\" type=\"text/javascript\"></script>\\r\\n    <link href=\"../css/superfish.css\" rel=\"stylesheet\" type=\"text/css\" /><link rel=\"stylesheet\" type=\"text/css\" href=\"../css/mainstylesheet_master.css\" /><link href=\"https://fonts.googleapis.com/css?family=Poppins\" rel=\"stylesheet\" />\\r\\n   \\r\\n    <script type=\"text/javascript\" >\\r\\n        function SendDataLoginSchool(salt) {      \\r\\n\\r\\n\\r\\n            var pwd1 = document.getElementById(\\'Password\\').value\\r\\n            if (pwd1.length > 15) {\\r\\n                alert(\"Password length can\\'t be greater then 15\");\\r\\n                return (false);\\r\\n            }\\r\\n\\r\\n            if (document.getElementById(\\'Password\\').value == \"\") {\\r\\n                alert(\"Enter Your Password\");\\r\\n                document.getElementById(\\'Password\\').focus();\\r\\n                return (false);\\r\\n            }\\r\\n\\r\\n            var a = new RegExp(\"^(?=.{8,13})(?=.*[A-Z])(?=.*[a-z])(?=.*[0-9])(?=.*\\\\\\\\W).*$\", \"g\");\\r\\n            if (!a.test(document.getElementById(\\'Password\\').value)) {\\r\\n                alert(\\'Your password must satisfy the following. \\\\n\\\\n* Password should be 8 to 13 character long. \\\\n* Password should have at least one Upper case alphabet.\\\\n* Password should have at least one Lower case alphabet. \\\\n* Password should have at least one numeric value. \\\\n* Password should have at least one special characters eg.!@#$%^&*-\\');\\r\\n                return (false);\\r\\n            }\\r\\n\\r\\n            if (document.getElementById(\\'Password\\').value != \"\") {\\r\\n                document.getElementById(\\'Password\\').value = (hex_md5(document.getElementById(\\'Password\\').value.toUpperCase())).toUpperCase();\\r\\n                // document.getElementById(\\'newpass\\').value = (hex_md5(document.getElementById(\\'newpass\\').value + salt)).toUpperCase();\\r\\n                //document.getElementById(\\'newpass\\').value = (hex_md5(document.getElementById(\\'newpass\\').value)).toUpperCase();\\r\\n            }\\r\\n\\r\\n\\r\\n            var pwd1 = document.getElementById(\\'PasswordConfirm\\').value\\r\\n            if (pwd1.length > 15) {\\r\\n                alert(\"Password length can\\'t be greater then 15\");\\r\\n                return (false);\\r\\n            }\\r\\n\\r\\n            if (document.getElementById(\\'PasswordConfirm\\').value == \"\") {\\r\\n                alert(\"Enter Your Password\");\\r\\n                document.getElementById(\\'PasswordConfirm\\').focus();\\r\\n                return (false);\\r\\n            }\\r\\n\\r\\n            var a = new RegExp(\"^(?=.{8,13})(?=.*[A-Z])(?=.*[a-z])(?=.*[0-9])(?=.*\\\\\\\\W).*$\", \"g\");\\r\\n            if (!a.test(document.getElementById(\\'PasswordConfirm\\').value)) {\\r\\n                alert(\\'Your password must satisfy the following. \\\\n\\\\n* Password should be 8 to 13 character long. \\\\n* Password should have at least one Upper case alphabet.\\\\n* Password should have at least one Lower case alphabet. \\\\n* Password should have at least one numeric value. \\\\n* Password should have at least one special characters eg.!@#$%^&*-\\');\\r\\n                return (false);\\r\\n            }\\r\\n\\r\\n\\r\\n            if (document.getElementById(\\'PasswordConfirm\\').value != \"\") {\\r\\n                document.getElementById(\\'PasswordConfirm\\').value = (hex_md5(document.getElementById(\\'PasswordConfirm\\').value.toUpperCase())).toUpperCase();\\r\\n                //document.getElementById(\\'PasswordConfirm\\').value = (hex_md5(document.getElementById(\\'PasswordConfirm\\').value + salt)).toUpperCase();\\r\\n                //document.getElementById(\\'conpass\\').value = (hex_md5(document.getElementById(\\'conpass\\').value)).toUpperCase();\\r\\n            }\\r\\n\\r\\n            else {\\r\\n                alert(\"Please enter password.\");\\r\\n                return (false);\\r\\n            }\\r\\n            return (true);\\r\\n        }\\r\\n    </script>\\r\\n    <script src=\"../js/news-scroller.js\" type=\"text/javascript\"></script>\\r\\n     <script type=\"text/javascript\">        // initialise plugins\\r\\n        jQuery(function () {\\r\\n            jQuery(\\'#example\\').superfish();\\r\\n            jQuery(\\'#example1\\').superfish();\\r\\n        }); \\r\\n    </script>\\r\\n    <script type=\"text/javascript\">        // initialise plugins\\r\\n        jQuery(function () {\\r\\n            jQuery(\\'#example\\').superfish();\\r\\n        }); \\r\\n    </script>\\r\\n    <style>\\r\\n    .mrque\\r\\n    {\\r\\n        font-style:oblique ;\\r\\n        font-size:10;\\r\\n        color:#000;\\r\\n        onmouseover:\"this.stop()\";\\r\\n        onmouseout=\"this.start()\"\\r\\n    }\\r\\n   \\r\\n    </style>\\r\\n</head>\\r\\n<body>\\r\\n    <form name=\"aspnetForm\" method=\"post\" action=\"./userview.aspx\" id=\"aspnetForm\">\\r\\n<input type=\"hidden\" name=\"__VIEWSTATE\" id=\"__VIEWSTATE\" value=\"YISQ6+oA2gOc8dABuz5Sx4Y7wAh0YjtWCWWvrQTse7qB1Nw3rGhJGW9t0C7f95a3rzVCdgdgwhVU1x4G4172YMiZVwO+j/1rUccU6SH2xZei+I857kbUMQqpTXidhowHMDbpinxGnSNYhQPq5CBcDvjcI5vObrDPxc3AJV+1lVaeUsOPod2M3Bbn5V6+pL21rilvxDmGj5oYnPxhRUP/AU8ugavA9exuQSeklUYoDNhLpikGpgmoywHk2hGB+0XNHHOGVLrM1OWCx8Tm+fGrnD1pMPZu3hnFr0A2n3Kx5QC4Kzf88X2cc0u2+ilLtppwnOihmbreUlEUjGJt4NGWWymbL4+OMhZizIhWy234CdlvqIrnnOzA4LVIk3Mn2hy2LAC/KnOTuqb12HQ8qamDqXq3cFftE9pEjZBHUo1fh2Y+soypq5e/hPX9xCS999gF5vDPfZ9iAD4aoaeh1TBmPIkXkWj1Mdvem1qRxGB5KKzWRnWZl64INF0xMHk2/dq2\" />\\r\\n\\r\\n<input type=\"hidden\" name=\"__VIEWSTATEGENERATOR\" id=\"__VIEWSTATEGENERATOR\" value=\"AC872EDD\" />\\r\\n<input type=\"hidden\" name=\"__VIEWSTATEENCRYPTED\" id=\"__VIEWSTATEENCRYPTED\" value=\"\" />\\r\\n        <div class=\"banner\">\\r\\n            <div class=\"container\">\\r\\n                <div class=\"logo3\"><img src=\"image/cbse-logo1.png\" alt=\"\" /></div>\\r\\n                <div class=\"banner_text\">                    \\r\\n                    <h2>\\xe0\\xa4\\x95\\xe0\\xa5\\x87\\xe0\\xa4\\xa8\\xe0\\xa5\\x8d\\xe0\\xa4\\xa6\\xe0\\xa5\\x8d\\xe0\\xa4\\xb0\\xe0\\xa5\\x80\\xe0\\xa4\\xaf \\xe0\\xa4\\xae\\xe0\\xa4\\xbe\\xe0\\xa4\\xa7\\xe0\\xa5\\x8d\\xe0\\xa4\\xaf\\xe0\\xa4\\xae\\xe0\\xa4\\xbf\\xe0\\xa4\\x95 \\xe0\\xa4\\xb6\\xe0\\xa4\\xbf\\xe0\\xa4\\x95\\xe0\\xa5\\x8d\\xe0\\xa4\\xb7\\xe0\\xa4\\xbe \\xe0\\xa4\\xac\\xe0\\xa5\\x8b\\xe0\\xa4\\xb0\\xe0\\xa5\\x8d\\xe0\\xa4\\xa1</h2>\\r\\n                    <h2>Central Board of Secondary Education</h2>\\r\\n                    <h1>\\xe0\\xa4\\xb8\\xe0\\xa4\\x82\\xe0\\xa4\\xac\\xe0\\xa4\\x82\\xe0\\xa4\\xa7\\xe0\\xa4\\xa4\\xe0\\xa4\\xbe - Online School Affiliation &amp; Monitoring System R-2.0</h1>\\r\\n                    <h5 style=\"color: #FF5722;font-size: 15px;font-weight: 400;\">As per new Affiliation Bye-Laws</h5>\\r\\n                </div>\\r\\n                <div class=\"logo2\">\\r\\n                    <img src=\"image/digitalindia.png\" alt=\"\" />\\r\\n                </div>\\r\\n            </div>\\r\\n                <div class=\"clear\">\\r\\n                </div>\\r\\n            </div>\\r\\n        <div class=\"menu\">\\r\\n            <div class=\"container\">\\r\\n                <ul class=\"sf-menu\" id=\"example\">\\r\\n                <li><a class=\"home_icon\" href=\"../Welcome.aspx\">Home</a></li>\\r\\n                <li><a href=\"#\">Affiliation-Bye-Laws</a>\\r\\n                   <ul class=\"custom_sub\">\\r\\n                       <li><a target=\"_blank\" href=\"http://cbseaff.nic.in/cbse_aff/attachment/onlineservices/affiliation-Bye-Laws.pdf\">Download Affiliation-Bye-Laws</a> </li>\\r\\n                        <li><a target=\"_blank\" href=\"http://cbseaff.nic.in/cbse_aff/Attachment/OnlineServices/replica_form.pdf\">Download Replica Of Form</a> </li>                    \\r\\n                    </ul>\\r\\n                </li>\\r\\n                \\r\\n                <li><a target=\"_blank\" href=\"../frmCircular.aspx\">Circulars </a></li>\\r\\n                <li><a href=\"#\">Useful Links</a>\\r\\n                    <ul class=\"custom_sub\">\\r\\n                        <li><a target=\"_blank\" href=\"http://cbse.nic.in/\">Central Board of Secondary Education</a>\\r\\n                        </li>\\r\\n                        <li><a target=\"_blank\" href=\"http://cbseresults.nic.in/\">CBSE Examination Results Portal</a>\\r\\n                        </li>\\r\\n                        <li><a target=\"_blank\" href=\"http://india.gov.in/\">National Portal of India</a>\\r\\n                        </li>\\r\\n                        <li><a target=\"_blank\" href=\"http://www.education.nic.in/\">Ministry of Education</a> </li>\\r\\n\\r\\n\\r\\n                        <li><a target=\"_blank\" href=\"http://www.cbseacademic.in/\">Academics</a>\\r\\n                        </li>\\r\\n                        <li><a target=\"_blank\" href=\"http://jeemain.nic.in/\">Joint Entrance Exam  [ JEE (Main)]</a>\\r\\n                        </li>\\r\\n                        <li><a target=\"_blank\" href=\"http://cbseneet.nic.in/\">National Eligibility Cum Entrance Test (NEET)</a>\\r\\n                        </li>\\r\\n                        <li><a target=\"_blank\" href=\"http://ctet.nic.in/\"> Central Teacher Eligibility Test (CTET) </a> </li>                     \\r\\n\\r\\n                    </ul>\\r\\n                </li>\\r\\n                <li><a href =\"#\">I.C. Login</a>\\r\\n                    <ul class=\"custom_sub\">\\r\\n                    <li><a target=\"_blank\" href=\"http://cbseaff.nic.in/cbse_admin_aff/deskwelcome.aspx\">\\r\\n                            Inspection Committee Login</a></li>\\r\\n                    </ul>\\r\\n                </li>\\r\\n                <li><a target=\"_blank\" href=\"../School/feedBackInfo.aspx\">Feedback </a></li>\\r\\n                    <li><a target=\"_blank\" href=\"http://cbseaff.nic.in/cbse_aff/Attachment/OnlineServices/FAQ.pdf\">FAQ</a></li>\\r\\n                <li><a target=\"_blank\" href=\"../help.aspx\">Contact Us</a> </li>\\r\\n               \\r\\n            </ul>\\r\\n            </div>\\r\\n            <div class=\"clear\">\\r\\n            </div>\\r\\n        </div>\\r\\n    <div class=\"main_page\">\\r\\n        <div class=\"mrque\">\\r\\n        <marquee direction=\"Left\" onmouseover=\"this.stop()\" onmouseout=\"this.start()\" ><strong> \\r\\n        \\r\\n        </strong></marquee>\\r\\n        </div>\\r\\n\\r\\n        \\r\\n<div  class=\"main_page\" style=\"width: 109%;margin-left: -4%;margin-bottom:-1%; margin-top: -2px;\">\\r\\n<div MS_POSITIONING=\"GridLayout\">\\r\\n\\t\\t<div>\\r\\n\\t\\t\\t<table id=\"t1 \" height=\"30\" cellSpacing=\"0\" cellPadding=\"0\" width=\"953\" align=\"center\"\\r\\n\\t\\t\\t\\tborder=\"0\" ClientIDMode=\"Static\">\\r\\n\\r\\n\\t\\t\\t\\t<tr>\\r\\n\\t\\t\\t\\t\\t<td>\\r\\n\\t\\t\\t\\t\\t\\t<TABLE id=\"Table1\" cellSpacing=\"0\" cellPadding=\"0\" width=\"99%\" align=\"center\" border=\"0\" ClientIDMode=\"Static\">\\r\\n\\t\\t\\t\\t\\t\\t\\t<TR>\\r\\n\\t\\t\\t\\t\\t\\t\\t\\t<TD vAlign=\"top\" align=\"left\" width=\"99%\">\\r\\n\\t\\t\\t\\t\\t\\t\\t\\t\\t<div align=\"center\" class=\"boldlabel\" style=\"color: black; font-size: 15px; margin-top: 10px;\">Total No. of Schools affiliated with CBSE :\\r\\n\\t\\t\\t\\t\\t\\t\\t\\t\\t\\t<span id=\"lbltotschool\"><font color=\"#004000\">25285</font></span>\\r\\n                                        \\r\\n\\t\\t\\t\\t\\t\\t\\t\\t\\t</div>\\r\\n\\t\\t\\t\\t\\t\\t\\t\\t\\t<br>\\r\\n\\t\\t\\t\\t\\t\\t\\t\\t\\t<div align=\"center\">\\r\\n\\t\\t\\t\\t\\t\\t\\t\\t\\t\\t<TABLE cellSpacing=\"0\" cellPadding=\"0\" width=\"99%\" align=\"center\">\\r\\n\\t\\t\\t\\t\\t\\t\\t\\t\\t\\t\\t<TR>\\r\\n\\t\\t\\t\\t\\t\\t\\t\\t\\t\\t\\t\\t<TD width=\"100%\">\\r\\n\\t\\t\\t\\t\\t\\t\\t\\t\\t\\t\\t\\t\\t<FIELDSET><LEGEND class=\"boldlabel\" align=\"center\" style=\"color:white; background-color:#00ced1;\">CBSE School Directory</LEGEND><br>\\r\\n\\t\\t\\t\\t\\t\\t\\t\\t\\t\\t\\t\\t\\t\\t<table cellSpacing=\"2\" cellPadding=\"2\" width=\"99%\" border=\"0\">\\r\\n\\t\\t\\t\\t\\t\\t\\t\\t\\t\\t\\t\\t\\t\\t\\t<tr class=\"label\">\\r\\n\\t\\t\\t\\t\\t\\t\\t\\t\\t\\t\\t\\t\\t\\t\\t\\t<td colSpan=\"3\" align=\"center\"><span id=\"optlist\" title=\"Select An Option Button\" class=\"label\"><span class=\"coltext\"><input id=\"optlist_0\" type=\"radio\" name=\"ctl00$ContentPlaceHolder1$optlist\" value=\"Search By KeyWord\" onclick=\"javascript:setTimeout(&#39;__doPostBack(\\\\&#39;ctl00$ContentPlaceHolder1$optlist$optlist_0\\\\&#39;,\\\\&#39;\\\\&#39;)&#39;, 0)\" /><label for=\"optlist_0\">Keyword wise</label></span><span class=\"coltext\"><input id=\"optlist_1\" type=\"radio\" name=\"ctl00$ContentPlaceHolder1$optlist\" value=\"AffNo Number Wise\" checked=\"checked\" /><label for=\"optlist_1\">Affi. No. wise</label></span><span class=\"coltext\"><input id=\"optlist_2\" type=\"radio\" name=\"ctl00$ContentPlaceHolder1$optlist\" value=\"State Wise\" onclick=\"javascript:setTimeout(&#39;__doPostBack(\\\\&#39;ctl00$ContentPlaceHolder1$optlist$optlist_2\\\\&#39;,\\\\&#39;\\\\&#39;)&#39;, 0)\" /><label for=\"optlist_2\">State wise</label></span><span class=\"coltext\"><input id=\"optlist_3\" type=\"radio\" name=\"ctl00$ContentPlaceHolder1$optlist\" value=\"Region Wise\" onclick=\"javascript:setTimeout(&#39;__doPostBack(\\\\&#39;ctl00$ContentPlaceHolder1$optlist$optlist_3\\\\&#39;,\\\\&#39;\\\\&#39;)&#39;, 0)\" /><label for=\"optlist_3\">Region wise</label></span><span class=\"coltext\"><input id=\"optlist_4\" type=\"radio\" name=\"ctl00$ContentPlaceHolder1$optlist\" value=\"School Level Wise\" onclick=\"javascript:setTimeout(&#39;__doPostBack(\\\\&#39;ctl00$ContentPlaceHolder1$optlist$optlist_4\\\\&#39;,\\\\&#39;\\\\&#39;)&#39;, 0)\" /><label for=\"optlist_4\">School level wise</label></span><input id=\"optlist_5\" type=\"radio\" name=\"ctl00$ContentPlaceHolder1$optlist\" value=\"DisAffiliated Schools\" onclick=\"javascript:setTimeout(&#39;__doPostBack(\\\\&#39;ctl00$ContentPlaceHolder1$optlist$optlist_5\\\\&#39;,\\\\&#39;\\\\&#39;)&#39;, 0)\" /><label for=\"optlist_5\">Disaffiliated schools</label></span></td>\\r\\n\\t\\t\\t\\t\\t\\t\\t\\t\\t\\t\\t\\t\\t\\t\\t</tr>\\r\\n\\t\\t\\t\\t\\t\\t\\t\\t\\t\\t\\t\\t\\t\\t\\t<tr class=\"label\">\\r\\n\\t\\t\\t\\t\\t\\t\\t\\t\\t\\t\\t\\t\\t\\t\\t\\t<td align=\"right\" width=\"35%\"></td>\\r\\n\\t\\t\\t\\t\\t\\t\\t\\t\\t\\t\\t\\t\\t\\t\\t\\t<td align=\"left\" colSpan=\"2\"></td>\\r\\n\\t\\t\\t\\t\\t\\t\\t\\t\\t\\t\\t\\t\\t\\t\\t</tr>\\r\\n                                                            <tr class=\"label\">\\r\\n\\t\\t\\t\\t\\t\\t\\t\\t\\t\\t\\t\\t\\t\\t\\t\\t<td align=\"right\" width=\"35%\"></td>\\r\\n\\t\\t\\t\\t\\t\\t\\t\\t\\t\\t\\t\\t\\t\\t\\t\\t<td align=\"left\" colSpan=\"2\"></td>\\r\\n\\t\\t\\t\\t\\t\\t\\t\\t\\t\\t\\t\\t\\t\\t\\t</tr>\\r\\n                                                            <tr class=\"label\">\\r\\n\\t\\t\\t\\t\\t\\t\\t\\t\\t\\t\\t\\t\\t\\t\\t\\t<td colSpan=\"3\" align=\"center\"></td>\\r\\n\\t\\t\\t\\t\\t\\t\\t\\t\\t\\t\\t\\t\\t\\t\\t</tr>\\r\\n\\r\\n                                                              <tr class=\"label\">\\r\\n\\t\\t\\t\\t\\t\\t\\t\\t\\t\\t\\t\\t\\t\\t\\t\\t<td colSpan=\"3\" align=\"center\"></td>\\r\\n\\t\\t\\t\\t\\t\\t\\t\\t\\t\\t\\t\\t\\t\\t\\t</tr>\\r\\n\\t\\t\\t\\t\\t\\t\\t\\t\\t\\t\\t\\t\\t\\t\\t<TR class=\"label\">\\r\\n\\t\\t\\t\\t\\t\\t\\t\\t\\t\\t\\t\\t\\t\\t\\t\\t<td align=\"right\" width=\"38%\"><span id=\"lblkeyword\">Enter Affiliation No. :</span></td>\\r\\n\\t\\t\\t\\t\\t\\t\\t\\t\\t\\t\\t\\t\\t\\t\\t\\t<td align=\"left\" width=\"47%\" colSpan=\"2\"><input name=\"ctl00$ContentPlaceHolder1$keytext\" type=\"text\" id=\"keytext\" title=\"Enter Any KeyWord Related To School Name or Address\" class=\"textboxes1\" />\\r\\n\\t\\t\\t\\t\\t\\t\\t\\t\\t\\t\\t\\t\\t\\t\\t\\t\\t<input type=\"submit\" name=\"ctl00$ContentPlaceHolder1$search\" value=\"Search\" id=\"search\" title=\"Click, To View Search Results\" class=\"buttons\" /></td>\\r\\n\\t\\t\\t\\t\\t\\t\\t\\t\\t\\t\\t\\t\\t\\t\\t</TR>\\r\\n\\t\\t\\t\\t\\t\\t\\t\\t\\t\\t\\t\\t\\t\\t\\t<tr class=\"label\">\\r\\n\\t\\t\\t\\t\\t\\t\\t\\t\\t\\t\\t\\t\\t\\t\\t\\t<td align=\"center\" colSpan=\"3\"></td>\\r\\n\\t\\t\\t\\t\\t\\t\\t\\t\\t\\t\\t\\t\\t\\t\\t</tr>\\r\\n\\t\\t\\t\\t\\t\\t\\t\\t\\t\\t\\t\\t\\t\\t\\t<TR class=\"label\">\\r\\n\\t\\t\\t\\t\\t\\t\\t\\t\\t\\t\\t\\t\\t\\t\\t\\t<TD align=\"center\" colSpan=\"3\"></TD>\\r\\n\\t\\t\\t\\t\\t\\t\\t\\t\\t\\t\\t\\t\\t\\t\\t</TR>\\r\\n\\t\\t\\t\\t\\t\\t\\t\\t\\t\\t\\t\\t\\t\\t</table>\\r\\n\\t\\t\\t\\t\\t\\t\\t\\t\\t\\t\\t\\t\\t\\t<br>\\r\\n\\t\\t\\t\\t\\t\\t\\t\\t\\t\\t\\t\\t\\t</FIELDSET>\\r\\n\\t\\t\\t\\t\\t\\t\\t\\t\\t\\t\\t\\t</TD>\\r\\n\\t\\t\\t\\t\\t\\t\\t\\t\\t\\t\\t</TR>\\r\\n\\t\\t\\t\\t\\t\\t\\t\\t\\t\\t</TABLE>\\r\\n\\t\\t\\t\\t\\t\\t\\t\\t\\t</div>\\r\\n\\t\\t\\t\\t\\t\\t\\t\\t\\t<div align=\"center\" class=\"boldlabel\">&nbsp;\\r\\n\\t\\t\\t\\t\\t\\t\\t\\t\\t</div>\\r\\n\\t\\t\\t\\t\\t\\t\\t\\t\\t<div align=\"center\" class=\"boldlabel\">&nbsp;\\r\\n\\t\\t\\t\\t\\t\\t\\t\\t\\t</div>\\r\\n\\t\\t\\t\\t\\t\\t\\t\\t\\t<div align=\"center\">\\r\\n\\t\\t\\t\\t\\t\\t\\t\\t\\t\\t<table cellSpacing=\"0\" cellPadding=\"0\" width=\"99%\">\\r\\n\\t\\t\\t\\t\\t\\t\\t\\t\\t\\t\\t<tr class=\"boldlabel\">\\r\\n\\t\\t\\t\\t\\t\\t\\t\\t\\t\\t\\t\\t<td align=\"left\" width=\"43%\">&nbsp;</td>\\r\\n\\t\\t\\t\\t\\t\\t\\t\\t\\t\\t\\t\\t<td align=\"right\" width=\"42%\">&nbsp;</td>\\r\\n\\t\\t\\t\\t\\t\\t\\t\\t\\t\\t\\t</tr>\\r\\n\\t\\t\\t\\t\\t\\t\\t\\t\\t\\t</table>\\r\\n\\t\\t\\t\\t\\t\\t\\t\\t\\t</div>\\r\\n\\t\\t\\t\\t\\t\\t\\t\\t\\t\\r\\n\\t\\t\\t\\t\\t\\t\\t\\t\\t<div align=\"center\">\\r\\n                                    &nbsp;\\r\\n                                    </div>\\r\\n\\t\\t\\t\\t\\t\\t\\t\\t</TD>\\r\\n\\t\\t\\t\\t\\t\\t\\t</TR>\\r\\n\\t\\t\\t\\t\\t\\t</TABLE>\\r\\n\\r\\n\\t\\t\\t\\t</td></tr></table>\\r\\n\\t\\t</div>\\r\\n        </div>\\r\\n        </div>\\r\\n\\r\\n        <div class=\"clear\">\\r\\n        </div>\\r\\n    </div>\\r\\n    <div class=\"footer\">\\r\\n         This site is Designed and Developed by IT & Project Department CBSE.</div>\\r\\n         \\r\\n    </form>\\r\\n    <script type=\"text/javascript\">\\r\\n        $(document).ready(function () {\\r\\n            //for table row\\r\\n            $(\".newsEvent li p:odd\").addClass(\"alternate\");\\r\\n\\r\\n        });\\r\\n    \\r\\n    </script>\\r\\n    \\r\\n</body>\\r\\n</html>\\r\\n'\n"
     ]
    }
   ],
   "source": [
    "print(htmlcontent)"
   ]
  },
  {
   "cell_type": "code",
   "execution_count": 24,
   "metadata": {},
   "outputs": [
    {
     "name": "stdout",
     "output_type": "stream",
     "text": [
      "<bound method Tag.prettify of \n",
      "<!DOCTYPE html PUBLIC \"-//W3C//DTD XHTML 1.0 Transitional//EN\" \"http://www.w3.org/TR/xhtml1/DTD/xhtml1-transitional.dtd\">\n",
      "\n",
      "<html xmlns=\"http://www.w3.org/1999/xhtml\">\n",
      "<head><title>\n",
      "</title>\n",
      "<script src=\"../js/jquery-3.3.1.min.js\" type=\"text/javascript\"></script>\n",
      "<script src=\"../js/superfish.js\" type=\"text/javascript\"></script>\n",
      "<script src=\"../js/hoverIntent.js\" type=\"text/javascript\"></script>\n",
      "<link href=\"../css/superfish.css\" rel=\"stylesheet\" type=\"text/css\"/><link href=\"../css/mainstylesheet_master.css\" rel=\"stylesheet\" type=\"text/css\"/><link href=\"https://fonts.googleapis.com/css?family=Poppins\" rel=\"stylesheet\"/>\n",
      "<script type=\"text/javascript\">\r\n",
      "        function SendDataLoginSchool(salt) {      \r\n",
      "\r\n",
      "\r\n",
      "            var pwd1 = document.getElementById('Password').value\r\n",
      "            if (pwd1.length > 15) {\r\n",
      "                alert(\"Password length can't be greater then 15\");\r\n",
      "                return (false);\r\n",
      "            }\r\n",
      "\r\n",
      "            if (document.getElementById('Password').value == \"\") {\r\n",
      "                alert(\"Enter Your Password\");\r\n",
      "                document.getElementById('Password').focus();\r\n",
      "                return (false);\r\n",
      "            }\r\n",
      "\r\n",
      "            var a = new RegExp(\"^(?=.{8,13})(?=.*[A-Z])(?=.*[a-z])(?=.*[0-9])(?=.*\\\\W).*$\", \"g\");\r\n",
      "            if (!a.test(document.getElementById('Password').value)) {\r\n",
      "                alert('Your password must satisfy the following. \\n\\n* Password should be 8 to 13 character long. \\n* Password should have at least one Upper case alphabet.\\n* Password should have at least one Lower case alphabet. \\n* Password should have at least one numeric value. \\n* Password should have at least one special characters eg.!@#$%^&*-');\r\n",
      "                return (false);\r\n",
      "            }\r\n",
      "\r\n",
      "            if (document.getElementById('Password').value != \"\") {\r\n",
      "                document.getElementById('Password').value = (hex_md5(document.getElementById('Password').value.toUpperCase())).toUpperCase();\r\n",
      "                // document.getElementById('newpass').value = (hex_md5(document.getElementById('newpass').value + salt)).toUpperCase();\r\n",
      "                //document.getElementById('newpass').value = (hex_md5(document.getElementById('newpass').value)).toUpperCase();\r\n",
      "            }\r\n",
      "\r\n",
      "\r\n",
      "            var pwd1 = document.getElementById('PasswordConfirm').value\r\n",
      "            if (pwd1.length > 15) {\r\n",
      "                alert(\"Password length can't be greater then 15\");\r\n",
      "                return (false);\r\n",
      "            }\r\n",
      "\r\n",
      "            if (document.getElementById('PasswordConfirm').value == \"\") {\r\n",
      "                alert(\"Enter Your Password\");\r\n",
      "                document.getElementById('PasswordConfirm').focus();\r\n",
      "                return (false);\r\n",
      "            }\r\n",
      "\r\n",
      "            var a = new RegExp(\"^(?=.{8,13})(?=.*[A-Z])(?=.*[a-z])(?=.*[0-9])(?=.*\\\\W).*$\", \"g\");\r\n",
      "            if (!a.test(document.getElementById('PasswordConfirm').value)) {\r\n",
      "                alert('Your password must satisfy the following. \\n\\n* Password should be 8 to 13 character long. \\n* Password should have at least one Upper case alphabet.\\n* Password should have at least one Lower case alphabet. \\n* Password should have at least one numeric value. \\n* Password should have at least one special characters eg.!@#$%^&*-');\r\n",
      "                return (false);\r\n",
      "            }\r\n",
      "\r\n",
      "\r\n",
      "            if (document.getElementById('PasswordConfirm').value != \"\") {\r\n",
      "                document.getElementById('PasswordConfirm').value = (hex_md5(document.getElementById('PasswordConfirm').value.toUpperCase())).toUpperCase();\r\n",
      "                //document.getElementById('PasswordConfirm').value = (hex_md5(document.getElementById('PasswordConfirm').value + salt)).toUpperCase();\r\n",
      "                //document.getElementById('conpass').value = (hex_md5(document.getElementById('conpass').value)).toUpperCase();\r\n",
      "            }\r\n",
      "\r\n",
      "            else {\r\n",
      "                alert(\"Please enter password.\");\r\n",
      "                return (false);\r\n",
      "            }\r\n",
      "            return (true);\r\n",
      "        }\r\n",
      "    </script>\n",
      "<script src=\"../js/news-scroller.js\" type=\"text/javascript\"></script>\n",
      "<script type=\"text/javascript\">        // initialise plugins\r\n",
      "        jQuery(function () {\r\n",
      "            jQuery('#example').superfish();\r\n",
      "            jQuery('#example1').superfish();\r\n",
      "        }); \r\n",
      "    </script>\n",
      "<script type=\"text/javascript\">        // initialise plugins\r\n",
      "        jQuery(function () {\r\n",
      "            jQuery('#example').superfish();\r\n",
      "        }); \r\n",
      "    </script>\n",
      "<style>\r\n",
      "    .mrque\r\n",
      "    {\r\n",
      "        font-style:oblique ;\r\n",
      "        font-size:10;\r\n",
      "        color:#000;\r\n",
      "        onmouseover:\"this.stop()\";\r\n",
      "        onmouseout=\"this.start()\"\r\n",
      "    }\r\n",
      "   \r\n",
      "    </style>\n",
      "</head>\n",
      "<body>\n",
      "<form action=\"./userview.aspx\" id=\"aspnetForm\" method=\"post\" name=\"aspnetForm\">\n",
      "<input id=\"__VIEWSTATE\" name=\"__VIEWSTATE\" type=\"hidden\" value=\"YISQ6+oA2gOc8dABuz5Sx4Y7wAh0YjtWCWWvrQTse7qB1Nw3rGhJGW9t0C7f95a3rzVCdgdgwhVU1x4G4172YMiZVwO+j/1rUccU6SH2xZei+I857kbUMQqpTXidhowHMDbpinxGnSNYhQPq5CBcDvjcI5vObrDPxc3AJV+1lVaeUsOPod2M3Bbn5V6+pL21rilvxDmGj5oYnPxhRUP/AU8ugavA9exuQSeklUYoDNhLpikGpgmoywHk2hGB+0XNHHOGVLrM1OWCx8Tm+fGrnD1pMPZu3hnFr0A2n3Kx5QC4Kzf88X2cc0u2+ilLtppwnOihmbreUlEUjGJt4NGWWymbL4+OMhZizIhWy234CdlvqIrnnOzA4LVIk3Mn2hy2LAC/KnOTuqb12HQ8qamDqXq3cFftE9pEjZBHUo1fh2Y+soypq5e/hPX9xCS999gF5vDPfZ9iAD4aoaeh1TBmPIkXkWj1Mdvem1qRxGB5KKzWRnWZl64INF0xMHk2/dq2\"/>\n",
      "<input id=\"__VIEWSTATEGENERATOR\" name=\"__VIEWSTATEGENERATOR\" type=\"hidden\" value=\"AC872EDD\"/>\n",
      "<input id=\"__VIEWSTATEENCRYPTED\" name=\"__VIEWSTATEENCRYPTED\" type=\"hidden\" value=\"\"/>\n",
      "<div class=\"banner\">\n",
      "<div class=\"container\">\n",
      "<div class=\"logo3\"><img alt=\"\" src=\"image/cbse-logo1.png\"/></div>\n",
      "<div class=\"banner_text\">\n",
      "<h2>केन्द्रीय माध्यमिक शिक्षा बोर्ड</h2>\n",
      "<h2>Central Board of Secondary Education</h2>\n",
      "<h1>संबंधता - Online School Affiliation &amp; Monitoring System R-2.0</h1>\n",
      "<h5 style=\"color: #FF5722;font-size: 15px;font-weight: 400;\">As per new Affiliation Bye-Laws</h5>\n",
      "</div>\n",
      "<div class=\"logo2\">\n",
      "<img alt=\"\" src=\"image/digitalindia.png\"/>\n",
      "</div>\n",
      "</div>\n",
      "<div class=\"clear\">\n",
      "</div>\n",
      "</div>\n",
      "<div class=\"menu\">\n",
      "<div class=\"container\">\n",
      "<ul class=\"sf-menu\" id=\"example\">\n",
      "<li><a class=\"home_icon\" href=\"../Welcome.aspx\">Home</a></li>\n",
      "<li><a href=\"#\">Affiliation-Bye-Laws</a>\n",
      "<ul class=\"custom_sub\">\n",
      "<li><a href=\"http://cbseaff.nic.in/cbse_aff/attachment/onlineservices/affiliation-Bye-Laws.pdf\" target=\"_blank\">Download Affiliation-Bye-Laws</a> </li>\n",
      "<li><a href=\"http://cbseaff.nic.in/cbse_aff/Attachment/OnlineServices/replica_form.pdf\" target=\"_blank\">Download Replica Of Form</a> </li>\n",
      "</ul>\n",
      "</li>\n",
      "<li><a href=\"../frmCircular.aspx\" target=\"_blank\">Circulars </a></li>\n",
      "<li><a href=\"#\">Useful Links</a>\n",
      "<ul class=\"custom_sub\">\n",
      "<li><a href=\"http://cbse.nic.in/\" target=\"_blank\">Central Board of Secondary Education</a>\n",
      "</li>\n",
      "<li><a href=\"http://cbseresults.nic.in/\" target=\"_blank\">CBSE Examination Results Portal</a>\n",
      "</li>\n",
      "<li><a href=\"http://india.gov.in/\" target=\"_blank\">National Portal of India</a>\n",
      "</li>\n",
      "<li><a href=\"http://www.education.nic.in/\" target=\"_blank\">Ministry of Education</a> </li>\n",
      "<li><a href=\"http://www.cbseacademic.in/\" target=\"_blank\">Academics</a>\n",
      "</li>\n",
      "<li><a href=\"http://jeemain.nic.in/\" target=\"_blank\">Joint Entrance Exam  [ JEE (Main)]</a>\n",
      "</li>\n",
      "<li><a href=\"http://cbseneet.nic.in/\" target=\"_blank\">National Eligibility Cum Entrance Test (NEET)</a>\n",
      "</li>\n",
      "<li><a href=\"http://ctet.nic.in/\" target=\"_blank\"> Central Teacher Eligibility Test (CTET) </a> </li>\n",
      "</ul>\n",
      "</li>\n",
      "<li><a href=\"#\">I.C. Login</a>\n",
      "<ul class=\"custom_sub\">\n",
      "<li><a href=\"http://cbseaff.nic.in/cbse_admin_aff/deskwelcome.aspx\" target=\"_blank\">\r\n",
      "                            Inspection Committee Login</a></li>\n",
      "</ul>\n",
      "</li>\n",
      "<li><a href=\"../School/feedBackInfo.aspx\" target=\"_blank\">Feedback </a></li>\n",
      "<li><a href=\"http://cbseaff.nic.in/cbse_aff/Attachment/OnlineServices/FAQ.pdf\" target=\"_blank\">FAQ</a></li>\n",
      "<li><a href=\"../help.aspx\" target=\"_blank\">Contact Us</a> </li>\n",
      "</ul>\n",
      "</div>\n",
      "<div class=\"clear\">\n",
      "</div>\n",
      "</div>\n",
      "<div class=\"main_page\">\n",
      "<div class=\"mrque\">\n",
      "<marquee direction=\"Left\" onmouseout=\"this.start()\" onmouseover=\"this.stop()\"><strong>\n",
      "</strong></marquee>\n",
      "</div>\n",
      "<div class=\"main_page\" style=\"width: 109%;margin-left: -4%;margin-bottom:-1%; margin-top: -2px;\">\n",
      "<div ms_positioning=\"GridLayout\">\n",
      "<div>\n",
      "<table align=\"center\" border=\"0\" cellpadding=\"0\" cellspacing=\"0\" clientidmode=\"Static\" height=\"30\" id=\"t1 \" width=\"953\">\n",
      "<tr>\n",
      "<td>\n",
      "<table align=\"center\" border=\"0\" cellpadding=\"0\" cellspacing=\"0\" clientidmode=\"Static\" id=\"Table1\" width=\"99%\">\n",
      "<tr>\n",
      "<td align=\"left\" valign=\"top\" width=\"99%\">\n",
      "<div align=\"center\" class=\"boldlabel\" style=\"color: black; font-size: 15px; margin-top: 10px;\">Total No. of Schools affiliated with CBSE :\r\n",
      "\t\t\t\t\t\t\t\t\t\t<span id=\"lbltotschool\"><font color=\"#004000\">25285</font></span>\n",
      "</div>\n",
      "<br/>\n",
      "<div align=\"center\">\n",
      "<table align=\"center\" cellpadding=\"0\" cellspacing=\"0\" width=\"99%\">\n",
      "<tr>\n",
      "<td width=\"100%\">\n",
      "<fieldset><legend align=\"center\" class=\"boldlabel\" style=\"color:white; background-color:#00ced1;\">CBSE School Directory</legend><br/>\n",
      "<table border=\"0\" cellpadding=\"2\" cellspacing=\"2\" width=\"99%\">\n",
      "<tr class=\"label\">\n",
      "<td align=\"center\" colspan=\"3\"><span class=\"label\" id=\"optlist\" title=\"Select An Option Button\"><span class=\"coltext\"><input id=\"optlist_0\" name=\"ctl00$ContentPlaceHolder1$optlist\" onclick=\"javascript:setTimeout('__doPostBack(\\'ctl00$ContentPlaceHolder1$optlist$optlist_0\\',\\'\\')', 0)\" type=\"radio\" value=\"Search By KeyWord\"/><label for=\"optlist_0\">Keyword wise</label></span><span class=\"coltext\"><input checked=\"checked\" id=\"optlist_1\" name=\"ctl00$ContentPlaceHolder1$optlist\" type=\"radio\" value=\"AffNo Number Wise\"/><label for=\"optlist_1\">Affi. No. wise</label></span><span class=\"coltext\"><input id=\"optlist_2\" name=\"ctl00$ContentPlaceHolder1$optlist\" onclick=\"javascript:setTimeout('__doPostBack(\\'ctl00$ContentPlaceHolder1$optlist$optlist_2\\',\\'\\')', 0)\" type=\"radio\" value=\"State Wise\"/><label for=\"optlist_2\">State wise</label></span><span class=\"coltext\"><input id=\"optlist_3\" name=\"ctl00$ContentPlaceHolder1$optlist\" onclick=\"javascript:setTimeout('__doPostBack(\\'ctl00$ContentPlaceHolder1$optlist$optlist_3\\',\\'\\')', 0)\" type=\"radio\" value=\"Region Wise\"/><label for=\"optlist_3\">Region wise</label></span><span class=\"coltext\"><input id=\"optlist_4\" name=\"ctl00$ContentPlaceHolder1$optlist\" onclick=\"javascript:setTimeout('__doPostBack(\\'ctl00$ContentPlaceHolder1$optlist$optlist_4\\',\\'\\')', 0)\" type=\"radio\" value=\"School Level Wise\"/><label for=\"optlist_4\">School level wise</label></span><input id=\"optlist_5\" name=\"ctl00$ContentPlaceHolder1$optlist\" onclick=\"javascript:setTimeout('__doPostBack(\\'ctl00$ContentPlaceHolder1$optlist$optlist_5\\',\\'\\')', 0)\" type=\"radio\" value=\"DisAffiliated Schools\"/><label for=\"optlist_5\">Disaffiliated schools</label></span></td>\n",
      "</tr>\n",
      "<tr class=\"label\">\n",
      "<td align=\"right\" width=\"35%\"></td>\n",
      "<td align=\"left\" colspan=\"2\"></td>\n",
      "</tr>\n",
      "<tr class=\"label\">\n",
      "<td align=\"right\" width=\"35%\"></td>\n",
      "<td align=\"left\" colspan=\"2\"></td>\n",
      "</tr>\n",
      "<tr class=\"label\">\n",
      "<td align=\"center\" colspan=\"3\"></td>\n",
      "</tr>\n",
      "<tr class=\"label\">\n",
      "<td align=\"center\" colspan=\"3\"></td>\n",
      "</tr>\n",
      "<tr class=\"label\">\n",
      "<td align=\"right\" width=\"38%\"><span id=\"lblkeyword\">Enter Affiliation No. :</span></td>\n",
      "<td align=\"left\" colspan=\"2\" width=\"47%\"><input class=\"textboxes1\" id=\"keytext\" name=\"ctl00$ContentPlaceHolder1$keytext\" title=\"Enter Any KeyWord Related To School Name or Address\" type=\"text\"/>\n",
      "<input class=\"buttons\" id=\"search\" name=\"ctl00$ContentPlaceHolder1$search\" title=\"Click, To View Search Results\" type=\"submit\" value=\"Search\"/></td>\n",
      "</tr>\n",
      "<tr class=\"label\">\n",
      "<td align=\"center\" colspan=\"3\"></td>\n",
      "</tr>\n",
      "<tr class=\"label\">\n",
      "<td align=\"center\" colspan=\"3\"></td>\n",
      "</tr>\n",
      "</table>\n",
      "<br/>\n",
      "</fieldset>\n",
      "</td>\n",
      "</tr>\n",
      "</table>\n",
      "</div>\n",
      "<div align=\"center\" class=\"boldlabel\"> \r\n",
      "\t\t\t\t\t\t\t\t\t</div>\n",
      "<div align=\"center\" class=\"boldlabel\"> \r\n",
      "\t\t\t\t\t\t\t\t\t</div>\n",
      "<div align=\"center\">\n",
      "<table cellpadding=\"0\" cellspacing=\"0\" width=\"99%\">\n",
      "<tr class=\"boldlabel\">\n",
      "<td align=\"left\" width=\"43%\"> </td>\n",
      "<td align=\"right\" width=\"42%\"> </td>\n",
      "</tr>\n",
      "</table>\n",
      "</div>\n",
      "<div align=\"center\">\r\n",
      "                                     \r\n",
      "                                    </div>\n",
      "</td>\n",
      "</tr>\n",
      "</table>\n",
      "</td></tr></table>\n",
      "</div>\n",
      "</div>\n",
      "</div>\n",
      "<div class=\"clear\">\n",
      "</div>\n",
      "</div>\n",
      "<div class=\"footer\">\r\n",
      "         This site is Designed and Developed by IT &amp; Project Department CBSE.</div>\n",
      "</form>\n",
      "<script type=\"text/javascript\">\r\n",
      "        $(document).ready(function () {\r\n",
      "            //for table row\r\n",
      "            $(\".newsEvent li p:odd\").addClass(\"alternate\");\r\n",
      "\r\n",
      "        });\r\n",
      "    \r\n",
      "    </script>\n",
      "</body>\n",
      "</html>\n",
      ">\n"
     ]
    }
   ],
   "source": [
    "# step 2 , Parse the html\n",
    "soup = BeautifulSoup(htmlcontent , \"html.parser\")\n",
    "print(soup.prettify)"
   ]
  },
  {
   "cell_type": "code",
   "execution_count": 25,
   "metadata": {},
   "outputs": [
    {
     "name": "stdout",
     "output_type": "stream",
     "text": [
      "<title>\n",
      "</title>\n"
     ]
    }
   ],
   "source": [
    "# html tree traversal\n",
    "title = soup.title\n",
    "print(title)"
   ]
  },
  {
   "cell_type": "code",
   "execution_count": 29,
   "metadata": {},
   "outputs": [],
   "source": [
    "# commonly used type of objects \n",
    "# 1 Tag\n",
    "# 2 Navigablestring\n",
    "# 3 BeautifulSoup\n",
    "# 4 comment"
   ]
  },
  {
   "cell_type": "code",
   "execution_count": 35,
   "metadata": {},
   "outputs": [
    {
     "name": "stdout",
     "output_type": "stream",
     "text": [
      "None\n"
     ]
    }
   ],
   "source": [
    "#get all the paragraphs from the page\n",
    "paras = soup.find(\"p\")\n",
    "print(paras)"
   ]
  },
  {
   "cell_type": "code",
   "execution_count": 31,
   "metadata": {},
   "outputs": [
    {
     "name": "stdout",
     "output_type": "stream",
     "text": [
      "[<li><a class=\"home_icon\" href=\"../Welcome.aspx\">Home</a></li>, <li><a href=\"#\">Affiliation-Bye-Laws</a>\n",
      "<ul class=\"custom_sub\">\n",
      "<li><a href=\"http://cbseaff.nic.in/cbse_aff/attachment/onlineservices/affiliation-Bye-Laws.pdf\" target=\"_blank\">Download Affiliation-Bye-Laws</a> </li>\n",
      "<li><a href=\"http://cbseaff.nic.in/cbse_aff/Attachment/OnlineServices/replica_form.pdf\" target=\"_blank\">Download Replica Of Form</a> </li>\n",
      "</ul>\n",
      "</li>, <li><a href=\"http://cbseaff.nic.in/cbse_aff/attachment/onlineservices/affiliation-Bye-Laws.pdf\" target=\"_blank\">Download Affiliation-Bye-Laws</a> </li>, <li><a href=\"http://cbseaff.nic.in/cbse_aff/Attachment/OnlineServices/replica_form.pdf\" target=\"_blank\">Download Replica Of Form</a> </li>, <li><a href=\"../frmCircular.aspx\" target=\"_blank\">Circulars </a></li>, <li><a href=\"#\">Useful Links</a>\n",
      "<ul class=\"custom_sub\">\n",
      "<li><a href=\"http://cbse.nic.in/\" target=\"_blank\">Central Board of Secondary Education</a>\n",
      "</li>\n",
      "<li><a href=\"http://cbseresults.nic.in/\" target=\"_blank\">CBSE Examination Results Portal</a>\n",
      "</li>\n",
      "<li><a href=\"http://india.gov.in/\" target=\"_blank\">National Portal of India</a>\n",
      "</li>\n",
      "<li><a href=\"http://www.education.nic.in/\" target=\"_blank\">Ministry of Education</a> </li>\n",
      "<li><a href=\"http://www.cbseacademic.in/\" target=\"_blank\">Academics</a>\n",
      "</li>\n",
      "<li><a href=\"http://jeemain.nic.in/\" target=\"_blank\">Joint Entrance Exam  [ JEE (Main)]</a>\n",
      "</li>\n",
      "<li><a href=\"http://cbseneet.nic.in/\" target=\"_blank\">National Eligibility Cum Entrance Test (NEET)</a>\n",
      "</li>\n",
      "<li><a href=\"http://ctet.nic.in/\" target=\"_blank\"> Central Teacher Eligibility Test (CTET) </a> </li>\n",
      "</ul>\n",
      "</li>, <li><a href=\"http://cbse.nic.in/\" target=\"_blank\">Central Board of Secondary Education</a>\n",
      "</li>, <li><a href=\"http://cbseresults.nic.in/\" target=\"_blank\">CBSE Examination Results Portal</a>\n",
      "</li>, <li><a href=\"http://india.gov.in/\" target=\"_blank\">National Portal of India</a>\n",
      "</li>, <li><a href=\"http://www.education.nic.in/\" target=\"_blank\">Ministry of Education</a> </li>, <li><a href=\"http://www.cbseacademic.in/\" target=\"_blank\">Academics</a>\n",
      "</li>, <li><a href=\"http://jeemain.nic.in/\" target=\"_blank\">Joint Entrance Exam  [ JEE (Main)]</a>\n",
      "</li>, <li><a href=\"http://cbseneet.nic.in/\" target=\"_blank\">National Eligibility Cum Entrance Test (NEET)</a>\n",
      "</li>, <li><a href=\"http://ctet.nic.in/\" target=\"_blank\"> Central Teacher Eligibility Test (CTET) </a> </li>, <li><a href=\"#\">I.C. Login</a>\n",
      "<ul class=\"custom_sub\">\n",
      "<li><a href=\"http://cbseaff.nic.in/cbse_admin_aff/deskwelcome.aspx\" target=\"_blank\">\r\n",
      "                            Inspection Committee Login</a></li>\n",
      "</ul>\n",
      "</li>, <li><a href=\"http://cbseaff.nic.in/cbse_admin_aff/deskwelcome.aspx\" target=\"_blank\">\r\n",
      "                            Inspection Committee Login</a></li>, <li><a href=\"../School/feedBackInfo.aspx\" target=\"_blank\">Feedback </a></li>, <li><a href=\"http://cbseaff.nic.in/cbse_aff/Attachment/OnlineServices/FAQ.pdf\" target=\"_blank\">FAQ</a></li>, <li><a href=\"../help.aspx\" target=\"_blank\">Contact Us</a> </li>]\n"
     ]
    }
   ],
   "source": [
    "li = soup.find_all(\"li\")\n",
    "print(li)"
   ]
  },
  {
   "cell_type": "code",
   "execution_count": 37,
   "metadata": {},
   "outputs": [
    {
     "name": "stdout",
     "output_type": "stream",
     "text": [
      "[<a class=\"home_icon\" href=\"../Welcome.aspx\">Home</a>, <a href=\"#\">Affiliation-Bye-Laws</a>, <a href=\"http://cbseaff.nic.in/cbse_aff/attachment/onlineservices/affiliation-Bye-Laws.pdf\" target=\"_blank\">Download Affiliation-Bye-Laws</a>, <a href=\"http://cbseaff.nic.in/cbse_aff/Attachment/OnlineServices/replica_form.pdf\" target=\"_blank\">Download Replica Of Form</a>, <a href=\"../frmCircular.aspx\" target=\"_blank\">Circulars </a>, <a href=\"#\">Useful Links</a>, <a href=\"http://cbse.nic.in/\" target=\"_blank\">Central Board of Secondary Education</a>, <a href=\"http://cbseresults.nic.in/\" target=\"_blank\">CBSE Examination Results Portal</a>, <a href=\"http://india.gov.in/\" target=\"_blank\">National Portal of India</a>, <a href=\"http://www.education.nic.in/\" target=\"_blank\">Ministry of Education</a>, <a href=\"http://www.cbseacademic.in/\" target=\"_blank\">Academics</a>, <a href=\"http://jeemain.nic.in/\" target=\"_blank\">Joint Entrance Exam  [ JEE (Main)]</a>, <a href=\"http://cbseneet.nic.in/\" target=\"_blank\">National Eligibility Cum Entrance Test (NEET)</a>, <a href=\"http://ctet.nic.in/\" target=\"_blank\"> Central Teacher Eligibility Test (CTET) </a>, <a href=\"#\">I.C. Login</a>, <a href=\"http://cbseaff.nic.in/cbse_admin_aff/deskwelcome.aspx\" target=\"_blank\">\r\n",
      "                            Inspection Committee Login</a>, <a href=\"../School/feedBackInfo.aspx\" target=\"_blank\">Feedback </a>, <a href=\"http://cbseaff.nic.in/cbse_aff/Attachment/OnlineServices/FAQ.pdf\" target=\"_blank\">FAQ</a>, <a href=\"../help.aspx\" target=\"_blank\">Contact Us</a>]\n"
     ]
    }
   ],
   "source": [
    "#get all the anchor tags from the page\n",
    "anchors = soup.find_all(\"a\")\n",
    "print(anchors)"
   ]
  },
  {
   "cell_type": "code",
   "execution_count": 40,
   "metadata": {},
   "outputs": [
    {
     "name": "stdout",
     "output_type": "stream",
     "text": [
      "../Welcome.aspx\n",
      "#\n",
      "http://cbseaff.nic.in/cbse_aff/attachment/onlineservices/affiliation-Bye-Laws.pdf\n",
      "http://cbseaff.nic.in/cbse_aff/Attachment/OnlineServices/replica_form.pdf\n",
      "../frmCircular.aspx\n",
      "#\n",
      "http://cbse.nic.in/\n",
      "http://cbseresults.nic.in/\n",
      "http://india.gov.in/\n",
      "http://www.education.nic.in/\n",
      "http://www.cbseacademic.in/\n",
      "http://jeemain.nic.in/\n",
      "http://cbseneet.nic.in/\n",
      "http://ctet.nic.in/\n",
      "#\n",
      "http://cbseaff.nic.in/cbse_admin_aff/deskwelcome.aspx\n",
      "../School/feedBackInfo.aspx\n",
      "http://cbseaff.nic.in/cbse_aff/Attachment/OnlineServices/FAQ.pdf\n",
      "../help.aspx\n"
     ]
    }
   ],
   "source": [
    "for links in anchors:\n",
    "    print(links.get(\"href\"))"
   ]
  },
  {
   "cell_type": "code",
   "execution_count": null,
   "metadata": {},
   "outputs": [],
   "source": []
  }
 ],
 "metadata": {
  "kernelspec": {
   "display_name": "Python 3",
   "language": "python",
   "name": "python3"
  },
  "language_info": {
   "codemirror_mode": {
    "name": "ipython",
    "version": 3
   },
   "file_extension": ".py",
   "mimetype": "text/x-python",
   "name": "python",
   "nbconvert_exporter": "python",
   "pygments_lexer": "ipython3",
   "version": "3.7.4"
  }
 },
 "nbformat": 4,
 "nbformat_minor": 2
}
